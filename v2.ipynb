{
 "cells": [
  {
   "cell_type": "code",
   "execution_count": 1,
   "metadata": {},
   "outputs": [],
   "source": [
    "import numpy as np # linear algebra\n",
    "import pandas as pd # data processing, CSV file I/O (e.g. pd.read_csv)\n",
    "\n",
    "# Input data files are available in the read-only \"../input/\" directory\n",
    "# For example, running this (by clicking run or pressing Shift+Enter) will list all files under the input directory\n",
    "\n",
    "import os\n",
    "for dirname, _, filenames in os.walk('/kaggle/input'):\n",
    "    for filename in filenames:\n",
    "        print(os.path.join(dirname, filename))"
   ]
  },
  {
   "cell_type": "code",
   "execution_count": 2,
   "metadata": {},
   "outputs": [],
   "source": [
    "import tensorflow as tf\n",
    "from tensorflow import keras\n",
    "from sklearn.preprocessing import OneHotEncoder"
   ]
  },
  {
   "cell_type": "code",
   "execution_count": 3,
   "metadata": {},
   "outputs": [],
   "source": [
    "!pip install -q tensorflow-text\n",
    "import tensorflow_text as text\n",
    "import tensorflow_hub as hub\n",
    "\n",
    "# Below the code, it's a Universal Sentence Encoder where any text can be converted into tensors easily\n",
    "USE = hub.load(\"https://tfhub.dev/google/universal-sentence-encoder-multilingual-large/3\")"
   ]
  },
  {
   "cell_type": "code",
   "execution_count": 4,
   "metadata": {},
   "outputs": [
    {
     "name": "stdout",
     "output_type": "stream",
     "text": [
      "(1, 512)\n",
      "0.7925468\n"
     ]
    }
   ],
   "source": [
    "sent_1 = [\"the location is great\"]\n",
    "sent_2 = [\"amazing location\"]\n",
    "\n",
    "emb1 = USE(sent_1)\n",
    "emb2 = USE(sent_2)\n",
    "\n",
    "print(emb1.shape)\n",
    "print(np.inner(emb1, emb2).flatten()[0])\n",
    "# The value will print some equivalent one close to 0.80 to 1"
   ]
  },
  {
   "cell_type": "code",
   "execution_count": 5,
   "metadata": {},
   "outputs": [
    {
     "data": {
      "text/html": [
       "<div>\n",
       "<style scoped>\n",
       "    .dataframe tbody tr th:only-of-type {\n",
       "        vertical-align: middle;\n",
       "    }\n",
       "\n",
       "    .dataframe tbody tr th {\n",
       "        vertical-align: top;\n",
       "    }\n",
       "\n",
       "    .dataframe thead th {\n",
       "        text-align: right;\n",
       "    }\n",
       "</style>\n",
       "<table border=\"1\" class=\"dataframe\">\n",
       "  <thead>\n",
       "    <tr style=\"text-align: right;\">\n",
       "      <th></th>\n",
       "      <th>id</th>\n",
       "      <th>dateAdded</th>\n",
       "      <th>dateUpdated</th>\n",
       "      <th>name</th>\n",
       "      <th>asins</th>\n",
       "      <th>brand</th>\n",
       "      <th>categories</th>\n",
       "      <th>primaryCategories</th>\n",
       "      <th>imageURLs</th>\n",
       "      <th>keys</th>\n",
       "      <th>...</th>\n",
       "      <th>reviews.didPurchase</th>\n",
       "      <th>reviews.doRecommend</th>\n",
       "      <th>reviews.id</th>\n",
       "      <th>reviews.numHelpful</th>\n",
       "      <th>reviews.rating</th>\n",
       "      <th>reviews.sourceURLs</th>\n",
       "      <th>reviews.text</th>\n",
       "      <th>reviews.title</th>\n",
       "      <th>reviews.username</th>\n",
       "      <th>sourceURLs</th>\n",
       "    </tr>\n",
       "  </thead>\n",
       "  <tbody>\n",
       "    <tr>\n",
       "      <td>0</td>\n",
       "      <td>AVpgNzjwLJeJML43Kpxn</td>\n",
       "      <td>2015-10-30T08:59:32Z</td>\n",
       "      <td>2019-04-25T09:08:16Z</td>\n",
       "      <td>AmazonBasics AAA Performance Alkaline Batterie...</td>\n",
       "      <td>B00QWO9P0O,B00LH3DMUO</td>\n",
       "      <td>Amazonbasics</td>\n",
       "      <td>AA,AAA,Health,Electronics,Health &amp; Household,C...</td>\n",
       "      <td>Health &amp; Beauty</td>\n",
       "      <td>https://images-na.ssl-images-amazon.com/images...</td>\n",
       "      <td>amazonbasics/hl002619,amazonbasicsaaaperforman...</td>\n",
       "      <td>...</td>\n",
       "      <td>NaN</td>\n",
       "      <td>NaN</td>\n",
       "      <td>NaN</td>\n",
       "      <td>NaN</td>\n",
       "      <td>3</td>\n",
       "      <td>https://www.amazon.com/product-reviews/B00QWO9...</td>\n",
       "      <td>I order 3 of them and one of the item is bad q...</td>\n",
       "      <td>... 3 of them and one of the item is bad quali...</td>\n",
       "      <td>Byger yang</td>\n",
       "      <td>https://www.barcodable.com/upc/841710106442,ht...</td>\n",
       "    </tr>\n",
       "    <tr>\n",
       "      <td>1</td>\n",
       "      <td>AVpgNzjwLJeJML43Kpxn</td>\n",
       "      <td>2015-10-30T08:59:32Z</td>\n",
       "      <td>2019-04-25T09:08:16Z</td>\n",
       "      <td>AmazonBasics AAA Performance Alkaline Batterie...</td>\n",
       "      <td>B00QWO9P0O,B00LH3DMUO</td>\n",
       "      <td>Amazonbasics</td>\n",
       "      <td>AA,AAA,Health,Electronics,Health &amp; Household,C...</td>\n",
       "      <td>Health &amp; Beauty</td>\n",
       "      <td>https://images-na.ssl-images-amazon.com/images...</td>\n",
       "      <td>amazonbasics/hl002619,amazonbasicsaaaperforman...</td>\n",
       "      <td>...</td>\n",
       "      <td>NaN</td>\n",
       "      <td>NaN</td>\n",
       "      <td>NaN</td>\n",
       "      <td>NaN</td>\n",
       "      <td>4</td>\n",
       "      <td>https://www.amazon.com/product-reviews/B00QWO9...</td>\n",
       "      <td>Bulk is always the less expensive way to go fo...</td>\n",
       "      <td>... always the less expensive way to go for pr...</td>\n",
       "      <td>ByMG</td>\n",
       "      <td>https://www.barcodable.com/upc/841710106442,ht...</td>\n",
       "    </tr>\n",
       "    <tr>\n",
       "      <td>2</td>\n",
       "      <td>AVpgNzjwLJeJML43Kpxn</td>\n",
       "      <td>2015-10-30T08:59:32Z</td>\n",
       "      <td>2019-04-25T09:08:16Z</td>\n",
       "      <td>AmazonBasics AAA Performance Alkaline Batterie...</td>\n",
       "      <td>B00QWO9P0O,B00LH3DMUO</td>\n",
       "      <td>Amazonbasics</td>\n",
       "      <td>AA,AAA,Health,Electronics,Health &amp; Household,C...</td>\n",
       "      <td>Health &amp; Beauty</td>\n",
       "      <td>https://images-na.ssl-images-amazon.com/images...</td>\n",
       "      <td>amazonbasics/hl002619,amazonbasicsaaaperforman...</td>\n",
       "      <td>...</td>\n",
       "      <td>NaN</td>\n",
       "      <td>NaN</td>\n",
       "      <td>NaN</td>\n",
       "      <td>NaN</td>\n",
       "      <td>5</td>\n",
       "      <td>https://www.amazon.com/product-reviews/B00QWO9...</td>\n",
       "      <td>Well they are not Duracell but for the price i...</td>\n",
       "      <td>... are not Duracell but for the price i am ha...</td>\n",
       "      <td>BySharon Lambert</td>\n",
       "      <td>https://www.barcodable.com/upc/841710106442,ht...</td>\n",
       "    </tr>\n",
       "    <tr>\n",
       "      <td>3</td>\n",
       "      <td>AVpgNzjwLJeJML43Kpxn</td>\n",
       "      <td>2015-10-30T08:59:32Z</td>\n",
       "      <td>2019-04-25T09:08:16Z</td>\n",
       "      <td>AmazonBasics AAA Performance Alkaline Batterie...</td>\n",
       "      <td>B00QWO9P0O,B00LH3DMUO</td>\n",
       "      <td>Amazonbasics</td>\n",
       "      <td>AA,AAA,Health,Electronics,Health &amp; Household,C...</td>\n",
       "      <td>Health &amp; Beauty</td>\n",
       "      <td>https://images-na.ssl-images-amazon.com/images...</td>\n",
       "      <td>amazonbasics/hl002619,amazonbasicsaaaperforman...</td>\n",
       "      <td>...</td>\n",
       "      <td>NaN</td>\n",
       "      <td>NaN</td>\n",
       "      <td>NaN</td>\n",
       "      <td>NaN</td>\n",
       "      <td>5</td>\n",
       "      <td>https://www.amazon.com/product-reviews/B00QWO9...</td>\n",
       "      <td>Seem to work as well as name brand batteries a...</td>\n",
       "      <td>... as well as name brand batteries at a much ...</td>\n",
       "      <td>Bymark sexson</td>\n",
       "      <td>https://www.barcodable.com/upc/841710106442,ht...</td>\n",
       "    </tr>\n",
       "    <tr>\n",
       "      <td>4</td>\n",
       "      <td>AVpgNzjwLJeJML43Kpxn</td>\n",
       "      <td>2015-10-30T08:59:32Z</td>\n",
       "      <td>2019-04-25T09:08:16Z</td>\n",
       "      <td>AmazonBasics AAA Performance Alkaline Batterie...</td>\n",
       "      <td>B00QWO9P0O,B00LH3DMUO</td>\n",
       "      <td>Amazonbasics</td>\n",
       "      <td>AA,AAA,Health,Electronics,Health &amp; Household,C...</td>\n",
       "      <td>Health &amp; Beauty</td>\n",
       "      <td>https://images-na.ssl-images-amazon.com/images...</td>\n",
       "      <td>amazonbasics/hl002619,amazonbasicsaaaperforman...</td>\n",
       "      <td>...</td>\n",
       "      <td>NaN</td>\n",
       "      <td>NaN</td>\n",
       "      <td>NaN</td>\n",
       "      <td>NaN</td>\n",
       "      <td>5</td>\n",
       "      <td>https://www.amazon.com/product-reviews/B00QWO9...</td>\n",
       "      <td>These batteries are very long lasting the pric...</td>\n",
       "      <td>... batteries are very long lasting the price ...</td>\n",
       "      <td>Bylinda</td>\n",
       "      <td>https://www.barcodable.com/upc/841710106442,ht...</td>\n",
       "    </tr>\n",
       "  </tbody>\n",
       "</table>\n",
       "<p>5 rows × 24 columns</p>\n",
       "</div>"
      ],
      "text/plain": [
       "                     id             dateAdded           dateUpdated  \\\n",
       "0  AVpgNzjwLJeJML43Kpxn  2015-10-30T08:59:32Z  2019-04-25T09:08:16Z   \n",
       "1  AVpgNzjwLJeJML43Kpxn  2015-10-30T08:59:32Z  2019-04-25T09:08:16Z   \n",
       "2  AVpgNzjwLJeJML43Kpxn  2015-10-30T08:59:32Z  2019-04-25T09:08:16Z   \n",
       "3  AVpgNzjwLJeJML43Kpxn  2015-10-30T08:59:32Z  2019-04-25T09:08:16Z   \n",
       "4  AVpgNzjwLJeJML43Kpxn  2015-10-30T08:59:32Z  2019-04-25T09:08:16Z   \n",
       "\n",
       "                                                name                  asins  \\\n",
       "0  AmazonBasics AAA Performance Alkaline Batterie...  B00QWO9P0O,B00LH3DMUO   \n",
       "1  AmazonBasics AAA Performance Alkaline Batterie...  B00QWO9P0O,B00LH3DMUO   \n",
       "2  AmazonBasics AAA Performance Alkaline Batterie...  B00QWO9P0O,B00LH3DMUO   \n",
       "3  AmazonBasics AAA Performance Alkaline Batterie...  B00QWO9P0O,B00LH3DMUO   \n",
       "4  AmazonBasics AAA Performance Alkaline Batterie...  B00QWO9P0O,B00LH3DMUO   \n",
       "\n",
       "          brand                                         categories  \\\n",
       "0  Amazonbasics  AA,AAA,Health,Electronics,Health & Household,C...   \n",
       "1  Amazonbasics  AA,AAA,Health,Electronics,Health & Household,C...   \n",
       "2  Amazonbasics  AA,AAA,Health,Electronics,Health & Household,C...   \n",
       "3  Amazonbasics  AA,AAA,Health,Electronics,Health & Household,C...   \n",
       "4  Amazonbasics  AA,AAA,Health,Electronics,Health & Household,C...   \n",
       "\n",
       "  primaryCategories                                          imageURLs  \\\n",
       "0   Health & Beauty  https://images-na.ssl-images-amazon.com/images...   \n",
       "1   Health & Beauty  https://images-na.ssl-images-amazon.com/images...   \n",
       "2   Health & Beauty  https://images-na.ssl-images-amazon.com/images...   \n",
       "3   Health & Beauty  https://images-na.ssl-images-amazon.com/images...   \n",
       "4   Health & Beauty  https://images-na.ssl-images-amazon.com/images...   \n",
       "\n",
       "                                                keys  ... reviews.didPurchase  \\\n",
       "0  amazonbasics/hl002619,amazonbasicsaaaperforman...  ...                 NaN   \n",
       "1  amazonbasics/hl002619,amazonbasicsaaaperforman...  ...                 NaN   \n",
       "2  amazonbasics/hl002619,amazonbasicsaaaperforman...  ...                 NaN   \n",
       "3  amazonbasics/hl002619,amazonbasicsaaaperforman...  ...                 NaN   \n",
       "4  amazonbasics/hl002619,amazonbasicsaaaperforman...  ...                 NaN   \n",
       "\n",
       "  reviews.doRecommend reviews.id reviews.numHelpful reviews.rating  \\\n",
       "0                 NaN        NaN                NaN              3   \n",
       "1                 NaN        NaN                NaN              4   \n",
       "2                 NaN        NaN                NaN              5   \n",
       "3                 NaN        NaN                NaN              5   \n",
       "4                 NaN        NaN                NaN              5   \n",
       "\n",
       "                                  reviews.sourceURLs  \\\n",
       "0  https://www.amazon.com/product-reviews/B00QWO9...   \n",
       "1  https://www.amazon.com/product-reviews/B00QWO9...   \n",
       "2  https://www.amazon.com/product-reviews/B00QWO9...   \n",
       "3  https://www.amazon.com/product-reviews/B00QWO9...   \n",
       "4  https://www.amazon.com/product-reviews/B00QWO9...   \n",
       "\n",
       "                                        reviews.text  \\\n",
       "0  I order 3 of them and one of the item is bad q...   \n",
       "1  Bulk is always the less expensive way to go fo...   \n",
       "2  Well they are not Duracell but for the price i...   \n",
       "3  Seem to work as well as name brand batteries a...   \n",
       "4  These batteries are very long lasting the pric...   \n",
       "\n",
       "                                       reviews.title  reviews.username  \\\n",
       "0  ... 3 of them and one of the item is bad quali...        Byger yang   \n",
       "1  ... always the less expensive way to go for pr...              ByMG   \n",
       "2  ... are not Duracell but for the price i am ha...  BySharon Lambert   \n",
       "3  ... as well as name brand batteries at a much ...     Bymark sexson   \n",
       "4  ... batteries are very long lasting the price ...           Bylinda   \n",
       "\n",
       "                                          sourceURLs  \n",
       "0  https://www.barcodable.com/upc/841710106442,ht...  \n",
       "1  https://www.barcodable.com/upc/841710106442,ht...  \n",
       "2  https://www.barcodable.com/upc/841710106442,ht...  \n",
       "3  https://www.barcodable.com/upc/841710106442,ht...  \n",
       "4  https://www.barcodable.com/upc/841710106442,ht...  \n",
       "\n",
       "[5 rows x 24 columns]"
      ]
     },
     "execution_count": 5,
     "metadata": {},
     "output_type": "execute_result"
    }
   ],
   "source": [
    "dataset = pd.read_csv(\"Datafiniti_Amazon_Consumer_Reviews_of_Amazon_Products_May19.csv\")\n",
    "\n",
    "dataset.head()"
   ]
  },
  {
   "cell_type": "code",
   "execution_count": 6,
   "metadata": {},
   "outputs": [],
   "source": [
    "# Now, creating two columns for easy view!\n",
    "\n",
    "dataset[\"review\"] = dataset[\"reviews.text\"]\n",
    "\n",
    "dataset[\"score\"] = dataset[\"reviews.rating\"].apply(lambda x: \"negative\" if x<3 else \"positive\")\n",
    "\n",
    "# Creating a seperate new variable\n",
    "\n",
    "df = dataset[[\"review\", \"score\"]]"
   ]
  },
  {
   "cell_type": "code",
   "execution_count": 7,
   "metadata": {},
   "outputs": [],
   "source": [
    "# Testing the reviews....\n",
    "df.head()\n",
    "\n",
    "# Saving in seperate CSV file, but it's not important\n",
    "df.to_csv(\"results.csv\")"
   ]
  },
  {
   "cell_type": "code",
   "execution_count": 8,
   "metadata": {},
   "outputs": [
    {
     "data": {
      "text/plain": [
       "positive    26751\n",
       "negative     1581\n",
       "Name: score, dtype: int64"
      ]
     },
     "execution_count": 8,
     "metadata": {},
     "output_type": "execute_result"
    }
   ],
   "source": [
    "df.score.value_counts()\n"
   ]
  },
  {
   "cell_type": "code",
   "execution_count": 9,
   "metadata": {},
   "outputs": [
    {
     "name": "stdout",
     "output_type": "stream",
     "text": [
      "(26751, 2) (1581, 2)\n"
     ]
    }
   ],
   "source": [
    "# Now, seperating values into two diff values\n",
    "positive_df = df[df[\"score\"] == \"positive\"]\n",
    "negative_df = df[df[\"score\"] == \"negative\"]\n",
    "\n",
    "print(positive_df.shape, negative_df.shape)"
   ]
  },
  {
   "cell_type": "code",
   "execution_count": 10,
   "metadata": {},
   "outputs": [],
   "source": [
    "good_df = positive_df.sample(n=len(negative_df), random_state=42)\n",
    "bad_df = negative_df\n"
   ]
  },
  {
   "cell_type": "code",
   "execution_count": 11,
   "metadata": {},
   "outputs": [
    {
     "data": {
      "text/plain": [
       "(3162, 2)"
      ]
     },
     "execution_count": 11,
     "metadata": {},
     "output_type": "execute_result"
    }
   ],
   "source": [
    "review_df = good_df.append(bad_df).reset_index(drop=True)\n",
    "review_df.shape"
   ]
  },
  {
   "cell_type": "code",
   "execution_count": 12,
   "metadata": {},
   "outputs": [
    {
     "data": {
      "text/html": [
       "<div>\n",
       "<style scoped>\n",
       "    .dataframe tbody tr th:only-of-type {\n",
       "        vertical-align: middle;\n",
       "    }\n",
       "\n",
       "    .dataframe tbody tr th {\n",
       "        vertical-align: top;\n",
       "    }\n",
       "\n",
       "    .dataframe thead th {\n",
       "        text-align: right;\n",
       "    }\n",
       "</style>\n",
       "<table border=\"1\" class=\"dataframe\">\n",
       "  <thead>\n",
       "    <tr style=\"text-align: right;\">\n",
       "      <th></th>\n",
       "      <th>review</th>\n",
       "      <th>score</th>\n",
       "    </tr>\n",
       "  </thead>\n",
       "  <tbody>\n",
       "    <tr>\n",
       "      <td>0</td>\n",
       "      <td>good batteriess</td>\n",
       "      <td>positive</td>\n",
       "    </tr>\n",
       "    <tr>\n",
       "      <td>1</td>\n",
       "      <td>These are great batteries and I only buy them ...</td>\n",
       "      <td>positive</td>\n",
       "    </tr>\n",
       "    <tr>\n",
       "      <td>2</td>\n",
       "      <td>great price, lasts a long time too</td>\n",
       "      <td>positive</td>\n",
       "    </tr>\n",
       "    <tr>\n",
       "      <td>3</td>\n",
       "      <td>My Son absolutely loves this thing, very durab...</td>\n",
       "      <td>positive</td>\n",
       "    </tr>\n",
       "    <tr>\n",
       "      <td>4</td>\n",
       "      <td>This was on my wife's Christmas list. She love...</td>\n",
       "      <td>positive</td>\n",
       "    </tr>\n",
       "  </tbody>\n",
       "</table>\n",
       "</div>"
      ],
      "text/plain": [
       "                                              review     score\n",
       "0                                    good batteriess  positive\n",
       "1  These are great batteries and I only buy them ...  positive\n",
       "2                 great price, lasts a long time too  positive\n",
       "3  My Son absolutely loves this thing, very durab...  positive\n",
       "4  This was on my wife's Christmas list. She love...  positive"
      ]
     },
     "execution_count": 12,
     "metadata": {},
     "output_type": "execute_result"
    }
   ],
   "source": [
    "review_df.head()"
   ]
  },
  {
   "cell_type": "code",
   "execution_count": 13,
   "metadata": {},
   "outputs": [],
   "source": [
    "from sklearn.preprocessing import OneHotEncoder\n",
    "\n",
    "type_one_hot = OneHotEncoder(sparse=False).fit_transform(\n",
    "  review_df.score.to_numpy().reshape(-1, 1)\n",
    ")"
   ]
  },
  {
   "cell_type": "code",
   "execution_count": 14,
   "metadata": {},
   "outputs": [],
   "source": [
    "from sklearn.model_selection import train_test_split\n",
    "\n",
    "train_reviews, test_reviews, y_train, y_test =\\\n",
    "  train_test_split(\n",
    "    review_df.review, \n",
    "    type_one_hot, \n",
    "    test_size=.1, \n",
    "    random_state=42\n",
    "  )"
   ]
  },
  {
   "cell_type": "code",
   "execution_count": 15,
   "metadata": {},
   "outputs": [
    {
     "name": "stderr",
     "output_type": "stream",
     "text": [
      "100%|██████████| 2845/2845 [03:26<00:00, 13.76it/s]\n",
      "100%|██████████| 317/317 [00:23<00:00, 13.43it/s]\n"
     ]
    }
   ],
   "source": [
    "from tqdm import tqdm\n",
    "\n",
    "X_train = []\n",
    "for r in tqdm(train_reviews):\n",
    "  emb = USE(r)\n",
    "  review_emb = tf.reshape(emb, [-1]).numpy()\n",
    "  X_train.append(review_emb)\n",
    "\n",
    "X_train = np.array(X_train)\n",
    "\n",
    "X_test = []\n",
    "for r in tqdm(test_reviews):\n",
    "  emb = USE(r)\n",
    "  review_emb = tf.reshape(emb, [-1]).numpy()\n",
    "  X_test.append(review_emb)\n",
    "\n",
    "X_test = np.array(X_test)"
   ]
  },
  {
   "cell_type": "code",
   "execution_count": 16,
   "metadata": {},
   "outputs": [
    {
     "name": "stdout",
     "output_type": "stream",
     "text": [
      "Model: \"sequential\"\n",
      "_________________________________________________________________\n",
      "Layer (type)                 Output Shape              Param #   \n",
      "=================================================================\n",
      "dense (Dense)                (None, 256)               131328    \n",
      "_________________________________________________________________\n",
      "dropout (Dropout)            (None, 256)               0         \n",
      "_________________________________________________________________\n",
      "dense_1 (Dense)              (None, 128)               32896     \n",
      "_________________________________________________________________\n",
      "dropout_1 (Dropout)          (None, 128)               0         \n",
      "_________________________________________________________________\n",
      "dense_2 (Dense)              (None, 64)                8256      \n",
      "_________________________________________________________________\n",
      "dropout_2 (Dropout)          (None, 64)                0         \n",
      "_________________________________________________________________\n",
      "dense_3 (Dense)              (None, 2)                 130       \n",
      "=================================================================\n",
      "Total params: 172,610\n",
      "Trainable params: 172,610\n",
      "Non-trainable params: 0\n",
      "_________________________________________________________________\n",
      "None\n",
      "('You must install pydot (`pip install pydot`) and install graphviz (see instructions at https://graphviz.gitlab.io/download/) ', 'for plot_model/model_to_dot to work.')\n"
     ]
    }
   ],
   "source": [
    "from keras.utils.vis_utils import plot_model\n",
    "from keras.layers import LSTM, SpatialDropout1D\n",
    "\n",
    "model = keras.Sequential()\n",
    "\n",
    "model.add(\n",
    "  keras.layers.Dense(\n",
    "    units=256,\n",
    "    input_shape=(X_train.shape[1], ),\n",
    "    activation='relu'\n",
    "  )\n",
    ")\n",
    "model.add(\n",
    "  keras.layers.Dropout(rate=0.5)\n",
    ")\n",
    "\n",
    "model.add(\n",
    "  keras.layers.Dense(\n",
    "    units=128,\n",
    "    activation='relu'\n",
    "  )\n",
    ")\n",
    "model.add(\n",
    "  keras.layers.Dropout(rate=0.5)\n",
    ")\n",
    "\n",
    "model.add(\n",
    "  keras.layers.Dense(\n",
    "    units=64,\n",
    "    activation='relu',\n",
    "    kernel_regularizer='l1' # This one worked so yes\n",
    "  )\n",
    ")\n",
    "\n",
    "model.add(\n",
    "  keras.layers.Dropout(rate=0.3)\n",
    ")\n",
    "\n",
    "model.add(keras.layers.Dense(2, activation='softmax'))\n",
    "model.compile(\n",
    "    loss='categorical_crossentropy', \n",
    "    optimizer=keras.optimizers.Adam(0.001),\n",
    "    metrics=['accuracy']\n",
    ")\n",
    "\n",
    "\n",
    "print(model.summary())\n",
    "plot_model(model, to_file='model_plot.png', show_shapes=True, show_layer_names=True)"
   ]
  },
  {
   "cell_type": "code",
   "execution_count": 17,
   "metadata": {},
   "outputs": [
    {
     "name": "stdout",
     "output_type": "stream",
     "text": [
      "Epoch 1/22\n",
      "160/160 [==============================] - ETA: 2:41 - loss: 7.9401 - accuracy: 0.50 - ETA: 0s - loss: 7.2966 - accuracy: 0.6250 - ETA: 0s - loss: 6.6947 - accuracy: 0.66 - ETA: 0s - loss: 6.1229 - accuracy: 0.69 - ETA: 0s - loss: 5.6224 - accuracy: 0.72 - ETA: 0s - loss: 5.1624 - accuracy: 0.73 - ETA: 0s - loss: 4.7471 - accuracy: 0.74 - ETA: 0s - loss: 4.3297 - accuracy: 0.76 - ETA: 0s - loss: 3.9561 - accuracy: 0.78 - ETA: 0s - loss: 3.6270 - accuracy: 0.79 - ETA: 0s - loss: 3.3372 - accuracy: 0.80 - 2s 6ms/step - loss: 3.3055 - accuracy: 0.8016 - val_loss: 0.5514 - val_accuracy: 0.9263\n",
      "Epoch 2/22\n",
      "160/160 [==============================] - ETA: 0s - loss: 0.5904 - accuracy: 0.93 - ETA: 0s - loss: 0.5796 - accuracy: 0.88 - ETA: 0s - loss: 0.5222 - accuracy: 0.90 - ETA: 0s - loss: 0.4919 - accuracy: 0.90 - ETA: 0s - loss: 0.4892 - accuracy: 0.89 - ETA: 0s - loss: 0.4709 - accuracy: 0.89 - ETA: 0s - loss: 0.4588 - accuracy: 0.90 - ETA: 0s - loss: 0.4560 - accuracy: 0.90 - ETA: 0s - loss: 0.4512 - accuracy: 0.89 - 0s 3ms/step - loss: 0.4459 - accuracy: 0.9023 - val_loss: 0.3209 - val_accuracy: 0.9333\n",
      "Epoch 3/22\n",
      "160/160 [==============================] - ETA: 0s - loss: 0.3674 - accuracy: 0.87 - ETA: 0s - loss: 0.3841 - accuracy: 0.90 - ETA: 0s - loss: 0.3605 - accuracy: 0.91 - ETA: 0s - loss: 0.3635 - accuracy: 0.90 - ETA: 0s - loss: 0.3697 - accuracy: 0.90 - ETA: 0s - loss: 0.3612 - accuracy: 0.91 - ETA: 0s - loss: 0.3583 - accuracy: 0.91 - ETA: 0s - loss: 0.3564 - accuracy: 0.91 - ETA: 0s - loss: 0.3570 - accuracy: 0.91 - 0s 3ms/step - loss: 0.3574 - accuracy: 0.9113 - val_loss: 0.3170 - val_accuracy: 0.9228\n",
      "Epoch 4/22\n",
      "160/160 [==============================] - ETA: 1s - loss: 0.4883 - accuracy: 0.81 - ETA: 0s - loss: 0.3651 - accuracy: 0.91 - ETA: 0s - loss: 0.3419 - accuracy: 0.91 - ETA: 0s - loss: 0.3380 - accuracy: 0.92 - ETA: 0s - loss: 0.3301 - accuracy: 0.92 - ETA: 0s - loss: 0.3286 - accuracy: 0.92 - ETA: 0s - loss: 0.3321 - accuracy: 0.92 - ETA: 0s - loss: 0.3405 - accuracy: 0.91 - ETA: 0s - loss: 0.3377 - accuracy: 0.91 - ETA: 0s - loss: 0.3359 - accuracy: 0.91 - ETA: 0s - loss: 0.3393 - accuracy: 0.91 - ETA: 0s - loss: 0.3360 - accuracy: 0.91 - 1s 4ms/step - loss: 0.3374 - accuracy: 0.9105 - val_loss: 0.2585 - val_accuracy: 0.9298\n",
      "Epoch 5/22\n",
      "160/160 [==============================] - ETA: 1s - loss: 0.1600 - accuracy: 1.00 - ETA: 0s - loss: 0.2746 - accuracy: 0.92 - ETA: 0s - loss: 0.2984 - accuracy: 0.92 - ETA: 0s - loss: 0.3107 - accuracy: 0.92 - ETA: 0s - loss: 0.3072 - accuracy: 0.92 - ETA: 0s - loss: 0.3129 - accuracy: 0.92 - ETA: 0s - loss: 0.3113 - accuracy: 0.92 - ETA: 0s - loss: 0.3079 - accuracy: 0.92 - ETA: 0s - loss: 0.3056 - accuracy: 0.92 - ETA: 0s - loss: 0.3083 - accuracy: 0.92 - ETA: 0s - loss: 0.3102 - accuracy: 0.92 - ETA: 0s - loss: 0.3102 - accuracy: 0.92 - ETA: 0s - loss: 0.3096 - accuracy: 0.92 - 1s 4ms/step - loss: 0.3084 - accuracy: 0.9270 - val_loss: 0.2632 - val_accuracy: 0.9404\n",
      "Epoch 6/22\n",
      "160/160 [==============================] - ETA: 1s - loss: 0.1487 - accuracy: 1.00 - ETA: 0s - loss: 0.3098 - accuracy: 0.91 - ETA: 0s - loss: 0.2925 - accuracy: 0.91 - ETA: 0s - loss: 0.2773 - accuracy: 0.92 - ETA: 0s - loss: 0.2846 - accuracy: 0.92 - ETA: 0s - loss: 0.2802 - accuracy: 0.92 - ETA: 0s - loss: 0.2846 - accuracy: 0.92 - ETA: 0s - loss: 0.2892 - accuracy: 0.92 - ETA: 0s - loss: 0.2901 - accuracy: 0.92 - ETA: 0s - loss: 0.2904 - accuracy: 0.92 - ETA: 0s - loss: 0.2921 - accuracy: 0.92 - ETA: 0s - loss: 0.2952 - accuracy: 0.92 - ETA: 0s - loss: 0.2929 - accuracy: 0.92 - ETA: 0s - loss: 0.2944 - accuracy: 0.92 - 1s 5ms/step - loss: 0.2944 - accuracy: 0.9273 - val_loss: 0.2514 - val_accuracy: 0.9298\n",
      "Epoch 7/22\n",
      "160/160 [==============================] - ETA: 0s - loss: 0.1875 - accuracy: 0.93 - ETA: 0s - loss: 0.2573 - accuracy: 0.93 - ETA: 0s - loss: 0.2873 - accuracy: 0.93 - ETA: 0s - loss: 0.2803 - accuracy: 0.93 - ETA: 0s - loss: 0.2627 - accuracy: 0.93 - ETA: 0s - loss: 0.2635 - accuracy: 0.93 - ETA: 0s - loss: 0.2615 - accuracy: 0.93 - ETA: 0s - loss: 0.2687 - accuracy: 0.93 - ETA: 0s - loss: 0.2735 - accuracy: 0.93 - ETA: 0s - loss: 0.2654 - accuracy: 0.93 - ETA: 0s - loss: 0.2661 - accuracy: 0.93 - ETA: 0s - loss: 0.2664 - accuracy: 0.93 - 1s 4ms/step - loss: 0.2675 - accuracy: 0.9379 - val_loss: 0.2401 - val_accuracy: 0.9333\n",
      "Epoch 8/22\n",
      "160/160 [==============================] - ETA: 0s - loss: 0.2111 - accuracy: 1.00 - ETA: 0s - loss: 0.2067 - accuracy: 0.96 - ETA: 0s - loss: 0.2419 - accuracy: 0.94 - ETA: 0s - loss: 0.2392 - accuracy: 0.95 - ETA: 0s - loss: 0.2571 - accuracy: 0.94 - ETA: 0s - loss: 0.2576 - accuracy: 0.94 - ETA: 0s - loss: 0.2576 - accuracy: 0.94 - ETA: 0s - loss: 0.2606 - accuracy: 0.94 - ETA: 0s - loss: 0.2613 - accuracy: 0.94 - ETA: 0s - loss: 0.2577 - accuracy: 0.94 - ETA: 0s - loss: 0.2565 - accuracy: 0.94 - ETA: 0s - loss: 0.2557 - accuracy: 0.94 - 1s 4ms/step - loss: 0.2552 - accuracy: 0.9422 - val_loss: 0.2279 - val_accuracy: 0.9333\n",
      "Epoch 9/22\n",
      "160/160 [==============================] - ETA: 0s - loss: 0.2748 - accuracy: 0.87 - ETA: 0s - loss: 0.2288 - accuracy: 0.92 - ETA: 0s - loss: 0.2209 - accuracy: 0.93 - ETA: 0s - loss: 0.2314 - accuracy: 0.93 - ETA: 0s - loss: 0.2429 - accuracy: 0.93 - ETA: 0s - loss: 0.2385 - accuracy: 0.94 - ETA: 0s - loss: 0.2367 - accuracy: 0.94 - ETA: 0s - loss: 0.2331 - accuracy: 0.94 - ETA: 0s - loss: 0.2326 - accuracy: 0.94 - ETA: 0s - loss: 0.2356 - accuracy: 0.94 - 1s 3ms/step - loss: 0.2344 - accuracy: 0.9445 - val_loss: 0.2218 - val_accuracy: 0.9439\n",
      "Epoch 10/22\n",
      "160/160 [==============================] - ETA: 1s - loss: 0.3704 - accuracy: 0.93 - ETA: 1s - loss: 0.2963 - accuracy: 0.92 - ETA: 1s - loss: 0.2517 - accuracy: 0.94 - ETA: 1s - loss: 0.2228 - accuracy: 0.96 - ETA: 1s - loss: 0.2133 - accuracy: 0.96 - ETA: 1s - loss: 0.2133 - accuracy: 0.96 - ETA: 0s - loss: 0.2076 - accuracy: 0.97 - ETA: 0s - loss: 0.2271 - accuracy: 0.95 - ETA: 0s - loss: 0.2232 - accuracy: 0.95 - ETA: 0s - loss: 0.2186 - accuracy: 0.95 - ETA: 0s - loss: 0.2153 - accuracy: 0.95 - ETA: 0s - loss: 0.2217 - accuracy: 0.95 - ETA: 0s - loss: 0.2254 - accuracy: 0.94 - ETA: 0s - loss: 0.2267 - accuracy: 0.94 - ETA: 0s - loss: 0.2264 - accuracy: 0.94 - ETA: 0s - loss: 0.2270 - accuracy: 0.94 - 1s 6ms/step - loss: 0.2257 - accuracy: 0.9504 - val_loss: 0.2108 - val_accuracy: 0.9404\n",
      "Epoch 11/22\n",
      "160/160 [==============================] - ETA: 1s - loss: 0.1635 - accuracy: 1.00 - ETA: 0s - loss: 0.2206 - accuracy: 0.95 - ETA: 1s - loss: 0.1953 - accuracy: 0.97 - ETA: 1s - loss: 0.1925 - accuracy: 0.96 - ETA: 0s - loss: 0.1846 - accuracy: 0.97 - ETA: 0s - loss: 0.1989 - accuracy: 0.96 - ETA: 0s - loss: 0.1974 - accuracy: 0.96 - ETA: 0s - loss: 0.1928 - accuracy: 0.96 - ETA: 0s - loss: 0.1876 - accuracy: 0.96 - ETA: 0s - loss: 0.1860 - accuracy: 0.96 - ETA: 0s - loss: 0.1838 - accuracy: 0.96 - ETA: 0s - loss: 0.1807 - accuracy: 0.97 - ETA: 0s - loss: 0.1859 - accuracy: 0.97 - ETA: 0s - loss: 0.1872 - accuracy: 0.96 - ETA: 0s - loss: 0.1865 - accuracy: 0.96 - ETA: 0s - loss: 0.1911 - accuracy: 0.96 - ETA: 0s - loss: 0.1980 - accuracy: 0.96 - ETA: 0s - loss: 0.1957 - accuracy: 0.96 - ETA: 0s - loss: 0.1970 - accuracy: 0.96 - 1s 6ms/step - loss: 0.2043 - accuracy: 0.9629 - val_loss: 0.2145 - val_accuracy: 0.9439\n",
      "Epoch 12/22\n",
      "160/160 [==============================] - ETA: 0s - loss: 0.1596 - accuracy: 1.00 - ETA: 0s - loss: 0.2240 - accuracy: 0.94 - ETA: 0s - loss: 0.2104 - accuracy: 0.95 - ETA: 0s - loss: 0.1979 - accuracy: 0.96 - ETA: 0s - loss: 0.1903 - accuracy: 0.96 - ETA: 0s - loss: 0.1866 - accuracy: 0.96 - ETA: 0s - loss: 0.1849 - accuracy: 0.97 - ETA: 0s - loss: 0.1955 - accuracy: 0.96 - ETA: 0s - loss: 0.1944 - accuracy: 0.96 - ETA: 0s - loss: 0.2017 - accuracy: 0.96 - 1s 3ms/step - loss: 0.2018 - accuracy: 0.9688 - val_loss: 0.2151 - val_accuracy: 0.9474\n",
      "Epoch 13/22\n"
     ]
    },
    {
     "name": "stdout",
     "output_type": "stream",
     "text": [
      "160/160 [==============================] - ETA: 0s - loss: 0.2538 - accuracy: 0.93 - ETA: 0s - loss: 0.1926 - accuracy: 0.97 - ETA: 0s - loss: 0.1836 - accuracy: 0.97 - ETA: 0s - loss: 0.1776 - accuracy: 0.97 - ETA: 0s - loss: 0.1802 - accuracy: 0.97 - ETA: 0s - loss: 0.1763 - accuracy: 0.97 - ETA: 0s - loss: 0.1763 - accuracy: 0.97 - ETA: 0s - loss: 0.1813 - accuracy: 0.97 - ETA: 0s - loss: 0.1808 - accuracy: 0.97 - 1s 3ms/step - loss: 0.1790 - accuracy: 0.9719 - val_loss: 0.2266 - val_accuracy: 0.9368\n",
      "Epoch 14/22\n",
      "160/160 [==============================] - ETA: 0s - loss: 0.2923 - accuracy: 0.93 - ETA: 0s - loss: 0.2200 - accuracy: 0.95 - ETA: 0s - loss: 0.1820 - accuracy: 0.97 - ETA: 0s - loss: 0.1815 - accuracy: 0.97 - ETA: 0s - loss: 0.1791 - accuracy: 0.97 - ETA: 0s - loss: 0.1747 - accuracy: 0.97 - ETA: 0s - loss: 0.1755 - accuracy: 0.97 - ETA: 0s - loss: 0.1775 - accuracy: 0.97 - ETA: 0s - loss: 0.1725 - accuracy: 0.97 - ETA: 0s - loss: 0.1723 - accuracy: 0.97 - ETA: 0s - loss: 0.1723 - accuracy: 0.97 - 1s 4ms/step - loss: 0.1723 - accuracy: 0.9758 - val_loss: 0.2134 - val_accuracy: 0.9544\n",
      "Epoch 15/22\n",
      "160/160 [==============================] - ETA: 1s - loss: 0.1241 - accuracy: 1.00 - ETA: 0s - loss: 0.1506 - accuracy: 0.98 - ETA: 0s - loss: 0.1535 - accuracy: 0.98 - ETA: 0s - loss: 0.1631 - accuracy: 0.97 - ETA: 0s - loss: 0.1601 - accuracy: 0.97 - ETA: 0s - loss: 0.1760 - accuracy: 0.97 - ETA: 0s - loss: 0.1760 - accuracy: 0.97 - ETA: 0s - loss: 0.1736 - accuracy: 0.97 - ETA: 0s - loss: 0.1745 - accuracy: 0.97 - ETA: 0s - loss: 0.1715 - accuracy: 0.97 - ETA: 0s - loss: 0.1687 - accuracy: 0.97 - 1s 4ms/step - loss: 0.1673 - accuracy: 0.9773 - val_loss: 0.1853 - val_accuracy: 0.9474\n",
      "Epoch 16/22\n",
      "160/160 [==============================] - ETA: 1s - loss: 0.1421 - accuracy: 1.00 - ETA: 1s - loss: 0.1220 - accuracy: 0.98 - ETA: 1s - loss: 0.1355 - accuracy: 0.98 - ETA: 1s - loss: 0.1321 - accuracy: 0.98 - ETA: 1s - loss: 0.1312 - accuracy: 0.98 - ETA: 1s - loss: 0.1343 - accuracy: 0.98 - ETA: 1s - loss: 0.1388 - accuracy: 0.98 - ETA: 0s - loss: 0.1403 - accuracy: 0.97 - ETA: 0s - loss: 0.1412 - accuracy: 0.97 - ETA: 0s - loss: 0.1415 - accuracy: 0.98 - ETA: 0s - loss: 0.1407 - accuracy: 0.98 - ETA: 0s - loss: 0.1447 - accuracy: 0.98 - ETA: 0s - loss: 0.1481 - accuracy: 0.98 - ETA: 0s - loss: 0.1487 - accuracy: 0.98 - ETA: 0s - loss: 0.1482 - accuracy: 0.98 - ETA: 0s - loss: 0.1507 - accuracy: 0.98 - ETA: 0s - loss: 0.1519 - accuracy: 0.97 - ETA: 0s - loss: 0.1571 - accuracy: 0.97 - ETA: 0s - loss: 0.1595 - accuracy: 0.97 - ETA: 0s - loss: 0.1612 - accuracy: 0.97 - 1s 7ms/step - loss: 0.1610 - accuracy: 0.9750 - val_loss: 0.1923 - val_accuracy: 0.9544\n",
      "Epoch 17/22\n",
      "160/160 [==============================] - ETA: 2s - loss: 0.1144 - accuracy: 1.00 - ETA: 0s - loss: 0.1397 - accuracy: 0.98 - ETA: 0s - loss: 0.1432 - accuracy: 0.98 - ETA: 0s - loss: 0.1492 - accuracy: 0.98 - ETA: 0s - loss: 0.1764 - accuracy: 0.97 - ETA: 0s - loss: 0.1756 - accuracy: 0.97 - ETA: 0s - loss: 0.1664 - accuracy: 0.98 - ETA: 0s - loss: 0.1616 - accuracy: 0.98 - ETA: 0s - loss: 0.1620 - accuracy: 0.98 - ETA: 0s - loss: 0.1592 - accuracy: 0.98 - ETA: 0s - loss: 0.1557 - accuracy: 0.98 - ETA: 0s - loss: 0.1515 - accuracy: 0.98 - ETA: 0s - loss: 0.1484 - accuracy: 0.98 - ETA: 0s - loss: 0.1445 - accuracy: 0.98 - ETA: 0s - loss: 0.1442 - accuracy: 0.98 - ETA: 0s - loss: 0.1422 - accuracy: 0.98 - ETA: 0s - loss: 0.1418 - accuracy: 0.98 - ETA: 0s - loss: 0.1405 - accuracy: 0.98 - ETA: 0s - loss: 0.1440 - accuracy: 0.98 - ETA: 0s - loss: 0.1467 - accuracy: 0.98 - ETA: 0s - loss: 0.1486 - accuracy: 0.97 - 1s 7ms/step - loss: 0.1485 - accuracy: 0.9793 - val_loss: 0.2115 - val_accuracy: 0.9544\n",
      "Epoch 18/22\n",
      "160/160 [==============================] - ETA: 1s - loss: 0.2297 - accuracy: 0.93 - ETA: 1s - loss: 0.1605 - accuracy: 0.97 - ETA: 1s - loss: 0.1513 - accuracy: 0.97 - ETA: 1s - loss: 0.1540 - accuracy: 0.97 - ETA: 0s - loss: 0.1455 - accuracy: 0.97 - ETA: 0s - loss: 0.1516 - accuracy: 0.97 - ETA: 0s - loss: 0.1474 - accuracy: 0.97 - ETA: 0s - loss: 0.1433 - accuracy: 0.97 - ETA: 0s - loss: 0.1467 - accuracy: 0.97 - ETA: 0s - loss: 0.1468 - accuracy: 0.97 - ETA: 0s - loss: 0.1446 - accuracy: 0.97 - ETA: 0s - loss: 0.1408 - accuracy: 0.97 - ETA: 0s - loss: 0.1388 - accuracy: 0.97 - ETA: 0s - loss: 0.1379 - accuracy: 0.98 - ETA: 0s - loss: 0.1361 - accuracy: 0.98 - ETA: 0s - loss: 0.1325 - accuracy: 0.98 - ETA: 0s - loss: 0.1338 - accuracy: 0.98 - ETA: 0s - loss: 0.1321 - accuracy: 0.98 - ETA: 0s - loss: 0.1362 - accuracy: 0.98 - 1s 7ms/step - loss: 0.1360 - accuracy: 0.9824 - val_loss: 0.1902 - val_accuracy: 0.9579\n",
      "Epoch 19/22\n",
      "160/160 [==============================] - ETA: 1s - loss: 0.1083 - accuracy: 1.00 - ETA: 0s - loss: 0.1070 - accuracy: 0.99 - ETA: 0s - loss: 0.1098 - accuracy: 0.99 - ETA: 0s - loss: 0.1112 - accuracy: 0.98 - ETA: 0s - loss: 0.1261 - accuracy: 0.98 - ETA: 0s - loss: 0.1223 - accuracy: 0.98 - ETA: 0s - loss: 0.1245 - accuracy: 0.98 - ETA: 0s - loss: 0.1222 - accuracy: 0.98 - ETA: 0s - loss: 0.1275 - accuracy: 0.98 - ETA: 0s - loss: 0.1271 - accuracy: 0.98 - ETA: 0s - loss: 0.1264 - accuracy: 0.98 - ETA: 0s - loss: 0.1315 - accuracy: 0.98 - ETA: 0s - loss: 0.1313 - accuracy: 0.98 - 1s 4ms/step - loss: 0.1309 - accuracy: 0.9844 - val_loss: 0.1920 - val_accuracy: 0.9439\n",
      "Epoch 20/22\n",
      "160/160 [==============================] - ETA: 0s - loss: 0.0996 - accuracy: 1.00 - ETA: 0s - loss: 0.1093 - accuracy: 0.99 - ETA: 0s - loss: 0.1234 - accuracy: 0.98 - ETA: 0s - loss: 0.1247 - accuracy: 0.98 - ETA: 0s - loss: 0.1310 - accuracy: 0.98 - ETA: 0s - loss: 0.1359 - accuracy: 0.98 - ETA: 0s - loss: 0.1360 - accuracy: 0.98 - 0s 2ms/step - loss: 0.1350 - accuracy: 0.9855 - val_loss: 0.1961 - val_accuracy: 0.9439\n",
      "Epoch 21/22\n",
      "160/160 [==============================] - ETA: 0s - loss: 0.0792 - accuracy: 1.00 - ETA: 0s - loss: 0.1473 - accuracy: 0.97 - ETA: 0s - loss: 0.1456 - accuracy: 0.97 - ETA: 0s - loss: 0.1343 - accuracy: 0.98 - ETA: 0s - loss: 0.1329 - accuracy: 0.98 - ETA: 0s - loss: 0.1318 - accuracy: 0.98 - ETA: 0s - loss: 0.1270 - accuracy: 0.98 - 0s 2ms/step - loss: 0.1227 - accuracy: 0.9859 - val_loss: 0.1918 - val_accuracy: 0.9509\n",
      "Epoch 22/22\n",
      "160/160 [==============================] - ETA: 0s - loss: 0.1064 - accuracy: 1.00 - ETA: 0s - loss: 0.1206 - accuracy: 0.98 - ETA: 0s - loss: 0.1122 - accuracy: 0.98 - ETA: 0s - loss: 0.1056 - accuracy: 0.98 - ETA: 0s - loss: 0.1101 - accuracy: 0.98 - ETA: 0s - loss: 0.1096 - accuracy: 0.98 - ETA: 0s - loss: 0.1082 - accuracy: 0.98 - ETA: 0s - loss: 0.1085 - accuracy: 0.98 - 0s 3ms/step - loss: 0.1089 - accuracy: 0.9879 - val_loss: 0.1922 - val_accuracy: 0.9509\n"
     ]
    }
   ],
   "source": [
    "history = model.fit(\n",
    "    X_train, y_train, \n",
    "    epochs=22, \n",
    "    batch_size=16, \n",
    "    validation_split=0.1, \n",
    "    verbose=1, \n",
    "    shuffle=True\n",
    ")"
   ]
  },
  {
   "cell_type": "code",
   "execution_count": 18,
   "metadata": {},
   "outputs": [],
   "source": [
    "import matplotlib.pyplot as plt\n",
    "\n",
    "plt.plot(history.history['loss'], label='train loss')\n",
    "plt.plot(history.history['val_loss'], label='val loss')\n",
    "plt.xlabel(\"epoch\")\n",
    "plt.ylabel(\"Cross-entropy loss\")\n",
    "plt.legend();"
   ]
  },
  {
   "cell_type": "code",
   "execution_count": 19,
   "metadata": {},
   "outputs": [
    {
     "data": {
      "image/png": "[encoded data removed]",
      "text/plain": [
       "<Figure size 432x288 with 1 Axes>"
      ]
     },
     "metadata": {
      "needs_background": "light"
     },
     "output_type": "display_data"
    }
   ],
   "source": [
    "plt.plot(history.history['accuracy'], label='train accuracy')\n",
    "plt.plot(history.history['val_accuracy'], label='val accuracy')\n",
    "plt.xlabel(\"epoch\")\n",
    "plt.ylabel(\"accuracy\")\n",
    "plt.legend();"
   ]
  },
  {
   "cell_type": "code",
   "execution_count": 20,
   "metadata": {},
   "outputs": [
    {
     "name": "stdout",
     "output_type": "stream",
     "text": [
      "10/10 [==============================] - ETA: 0s - loss: 0.3176 - accuracy: 0.93 - 0s 2ms/step - loss: 0.3496 - accuracy: 0.9180\n"
     ]
    },
    {
     "data": {
      "text/plain": [
       "[0.3495921790599823, 0.9179810881614685]"
      ]
     },
     "execution_count": 20,
     "metadata": {},
     "output_type": "execute_result"
    }
   ],
   "source": [
    "model.evaluate(X_test, y_test)"
   ]
  },
  {
   "cell_type": "code",
   "execution_count": 21,
   "metadata": {},
   "outputs": [
    {
     "name": "stdout",
     "output_type": "stream",
     "text": [
      "Love the HD8 the extra inch makes a huge difference over the HD7.\n",
      "Good\n"
     ]
    }
   ],
   "source": [
    "print(test_reviews.iloc[0])\n",
    "print(\"Bad\" if y_test[0][0] == 1 else \"Good\")"
   ]
  },
  {
   "cell_type": "code",
   "execution_count": 22,
   "metadata": {},
   "outputs": [
    {
     "name": "stdout",
     "output_type": "stream",
     "text": [
      "[[2.6506346e-04 9.9973494e-01]]\n"
     ]
    },
    {
     "data": {
      "text/plain": [
       "'Good'"
      ]
     },
     "execution_count": 22,
     "metadata": {},
     "output_type": "execute_result"
    }
   ],
   "source": [
    "y_pred = model.predict(X_test[:1])\n",
    "print(y_pred)\n",
    "\"Bad\" if np.argmax(y_pred) == 0 else \"Good\""
   ]
  },
  {
   "cell_type": "code",
   "execution_count": 23,
   "metadata": {},
   "outputs": [
    {
     "name": "stdout",
     "output_type": "stream",
     "text": [
      "This fire is much better than the old one so far. It responds much faster and has a much better screen. I also put a 128 gig memory stick into it which the old fire could not accommodate. So far, so good.\n",
      "Good\n"
     ]
    }
   ],
   "source": [
    "print(test_reviews.iloc[10])\n",
    "print(\"Bad\" if y_test[1][0] == 1 else \"Good\")"
   ]
  },
  {
   "cell_type": "code",
   "execution_count": 24,
   "metadata": {},
   "outputs": [],
   "source": [
    "model.save(\"Analysis.h5\")"
   ]
  },
  {
   "cell_type": "code",
   "execution_count": null,
   "metadata": {},
   "outputs": [],
   "source": []
  }
 ],
 "metadata": {
  "kernelspec": {
   "display_name": "Python 3",
   "language": "python",
   "name": "python3"
  },
  "language_info": {
   "codemirror_mode": {
    "name": "ipython",
    "version": 3
   },
   "file_extension": ".py",
   "mimetype": "text/x-python",
   "name": "python",
   "nbconvert_exporter": "python",
   "pygments_lexer": "ipython3",
   "version": "3.7.4"
  }
 },
 "nbformat": 4,
 "nbformat_minor": 2
}
